{
 "cells": [
  {
   "cell_type": "markdown",
   "id": "f93b3f27",
   "metadata": {},
   "source": [
    "# 🧪 Activity: ShopSmart Analytics Challenge\n",
    "\n",
    "You're preparing for a board meeting where executives want to understand customer segments for Q4 holiday marketing. The database has quality issues that need immediate attention.\n",
    "\n",
    "### Challenge Dataset:\n",
    "\n",
    "| customer_id | name           | age  | country     | avg_monthly_spend | preferred_category | last_purchase_days | holiday_budget |\n",
    "|-------------|----------------|------|-------------|--------------------|---------------------|--------------------|----------------|\n",
    "| CUST101     | Jennifer Wu    | 31   | Singapore   | 450.80             | Electronics         | 5                  | 1200           |\n",
    "| CUST102     | Ahmed Hassan   | None | Malaysia    | None               | Fashion             | 12                 | None           |\n",
    "| CUST103     | Maria Santos   | 28   | None        | 620.50             | None                | None               | 1800           |\n",
    "| CUST104     | None           | 35   | Thailand    | 280.90             | Home                | 28                 | 800            |\n",
    "| CUST105     | Kevin Ng       | None | Singapore   | 890.25             | Electronics         | 3                  | None           |\n",
    "| CUST106     | Priya Sharma   | 42   | None        | None               | Beauty              | None               | 1500           |\n",
    "| CUST107     | None           | 29   | Philippines | 195.75             | Fashion             | 45                 | 600            |\n",
    "| CUST108     | Tommy Lim      | None | Malaysia    | 720.40             | None                | 8                  | 2000           |\n",
    "| CUST109     | Alex Johnson   | 38   | Thailand    | None               | Electronics         | 15                 | 1400           |\n",
    "| CUST110     | Nina Patel     | 25   | Singapore   | 340.60             | Fashion             | None               | None           |\n"
   ]
  },
  {
   "cell_type": "code",
   "id": "209a1abe",
   "metadata": {
    "ExecuteTime": {
     "end_time": "2025-08-24T00:54:45.530279Z",
     "start_time": "2025-08-24T00:54:45.091560Z"
    }
   },
   "source": [
    "# Import required libraries\n",
    "import pandas as pd\n",
    "import numpy as np\n",
    "\n",
    "# Q4 Holiday Marketing Analysis Dataset\n",
    "holiday_customers = {\n",
    "    'customer_id': ['CUST101', 'CUST102', 'CUST103', 'CUST104', 'CUST105', 'CUST106', 'CUST107', 'CUST108', 'CUST109',\n",
    "                    'CUST110'],\n",
    "    'name': ['Jennifer Wu', 'Ahmed Hassan', 'Maria Santos', None, 'Kevin Ng', 'Priya Sharma', None, 'Tommy Lim',\n",
    "             'Alex Johnson', 'Nina Patel'],\n",
    "    'age': [31, None, 28, 35, None, 42, 29, None, 38, 25],\n",
    "    'country': ['Singapore', 'Malaysia', None, 'Thailand', 'Singapore', None, 'Philippines', 'Malaysia', 'Thailand',\n",
    "                'Singapore'],\n",
    "    'avg_monthly_spend': [450.80, None, 620.50, 280.90, 890.25, None, 195.75, 720.40, None, 340.60],\n",
    "    'preferred_category': ['Electronics', 'Fashion', None, 'Home', 'Electronics', 'Beauty', 'Fashion', None,\n",
    "                           'Electronics', 'Fashion'],\n",
    "    'last_purchase_days': [5, 12, None, 28, 3, None, 45, 8, 15, None],\n",
    "    'holiday_budget': [1200, None, 1800, 800, None, 1500, 600, 2000, 1400, None]\n",
    "}\n",
    "\n"
   ],
   "outputs": [],
   "execution_count": 5
  },
  {
   "cell_type": "markdown",
   "id": "34d05fd2",
   "metadata": {},
   "source": [
    "## 🎯 Your Mission\n",
    "\n",
    "1. Clean this data for executive presentation  \n",
    "2. Ensure customer segmentation is accurate  \n",
    "3. Prepare reliable holiday marketing insights  \n",
    "4. Estimate potential Q4 revenue based on clean data  \n",
    "\n",
    "---\n",
    "\n",
    "## 💼 Business Questions to Answer\n",
    "\n",
    "- Which countries have highest spending customers?  \n",
    "- What's the average holiday budget by customer segment?  \n",
    "- Which product categories should we focus promotion on?  \n",
    "- How many customers are at risk of churning (high days since purchase)?  \n",
    "\n",
    "---\n",
    "\n",
    "## 🛠️ Apply your missing data handling skills to solve this business challenge!"
   ]
  },
  {
   "cell_type": "markdown",
   "id": "fced4103",
   "metadata": {},
   "source": [
    "\n",
    "\n",
    "**Success Metrics:**\n",
    "- Clean data ready for executive dashboard\n",
    "- Reliable customer segmentation for holiday campaigns\n",
    "- Accurate revenue forecasting for Q4 planning\n",
    "- Actionable insights for marketing team\n",
    "\n",
    "This real-world scenario teaches you that data cleaning. It is a critical business skill that directly impacts revenue, customer satisfaction, and strategic decision-making!"
   ]
  },
  {
   "cell_type": "markdown",
   "id": "581d6f1c",
   "metadata": {},
   "source": [
    "Here are the steps:\n",
    "1. Cleaning the data\n",
    "2. Handling missing values\n",
    "3. Segmenting customers\n",
    "4. Answering business questions\n",
    "5. Estimating Q4 revenue\n",
    "\n",
    "Dataset: Simulated holiday marketing customer dataset.\n"
   ]
  },
  {
   "cell_type": "markdown",
   "id": "24af508f",
   "metadata": {},
   "source": [
    "## 📦 Step 1: Import required libraries"
   ]
  },
  {
   "cell_type": "code",
   "id": "ed45079d",
   "metadata": {
    "ExecuteTime": {
     "end_time": "2025-08-24T00:54:45.536857Z",
     "start_time": "2025-08-24T00:54:45.535068Z"
    }
   },
   "source": [
    "import pandas as pd\n",
    "import numpy as np"
   ],
   "outputs": [],
   "execution_count": 6
  },
  {
   "cell_type": "markdown",
   "id": "04f7aca0",
   "metadata": {},
   "source": [
    "## 📂 Step 2: Load the Q4 Holiday Marketing Dataset\n"
   ]
  },
  {
   "cell_type": "code",
   "id": "dfdf46b9",
   "metadata": {
    "ExecuteTime": {
     "end_time": "2025-08-24T00:54:45.553394Z",
     "start_time": "2025-08-24T00:54:45.544385Z"
    }
   },
   "source": [
    "holiday_customers = {\n",
    "    'customer_id': ['CUST101', 'CUST102', 'CUST103', 'CUST104', 'CUST105', 'CUST106', 'CUST107', 'CUST108', 'CUST109',\n",
    "                    'CUST110'],\n",
    "    'name': ['Jennifer Wu', 'Ahmed Hassan', 'Maria Santos', None, 'Kevin Ng', 'Priya Sharma', None, 'Tommy Lim',\n",
    "             'Alex Johnson', 'Nina Patel'],\n",
    "    'age': [31, None, 28, 35, None, 42, 29, None, 38, 25],\n",
    "    'country': ['Singapore', 'Malaysia', None, 'Thailand', 'Singapore', None, 'Philippines', 'Malaysia', 'Thailand',\n",
    "                'Singapore'],\n",
    "    'avg_monthly_spend': [450.80, None, 620.50, 280.90, 890.25, None, 195.75, 720.40, None, 340.60],\n",
    "    'preferred_category': ['Electronics', 'Fashion', None, 'Home', 'Electronics', 'Beauty', 'Fashion', None,\n",
    "                           'Electronics', 'Fashion'],\n",
    "    'last_purchase_days': [5, 12, None, 28, 3, None, 45, 8, 15, None],\n",
    "    'holiday_budget': [1200, None, 1800, 800, None, 1500, 600, 2000, 1400, None]\n",
    "}\n",
    "\n",
    "# TODO: Convert the provided dictionary into a pandas DataFrame\n",
    "# The dictionary variable is called holiday_customers\n",
    "\n",
    "# HINT: Use pd.DataFrame(...)\n",
    "\n",
    "df = pd.DataFrame(holiday_customers)\n"
   ],
   "outputs": [],
   "execution_count": 7
  },
  {
   "cell_type": "markdown",
   "id": "cae6bec0",
   "metadata": {},
   "source": [
    "## 🔍 Step 3: Inspect the Raw Data\n"
   ]
  },
  {
   "cell_type": "code",
   "id": "37ee76dc",
   "metadata": {
    "ExecuteTime": {
     "end_time": "2025-08-24T00:54:45.578354Z",
     "start_time": "2025-08-24T00:54:45.564235Z"
    }
   },
   "source": [
    "# TODO: Display the dataset and count missing values per column\n",
    "\n",
    "# HINT: Use print(), .isnull(), and .sum()\n",
    "print(df)\n",
    "print(df.isnull().sum())"
   ],
   "outputs": [
    {
     "name": "stdout",
     "output_type": "stream",
     "text": [
      "  customer_id          name   age      country  avg_monthly_spend  \\\n",
      "0     CUST101   Jennifer Wu  31.0    Singapore             450.80   \n",
      "1     CUST102  Ahmed Hassan   NaN     Malaysia                NaN   \n",
      "2     CUST103  Maria Santos  28.0         None             620.50   \n",
      "3     CUST104          None  35.0     Thailand             280.90   \n",
      "4     CUST105      Kevin Ng   NaN    Singapore             890.25   \n",
      "5     CUST106  Priya Sharma  42.0         None                NaN   \n",
      "6     CUST107          None  29.0  Philippines             195.75   \n",
      "7     CUST108     Tommy Lim   NaN     Malaysia             720.40   \n",
      "8     CUST109  Alex Johnson  38.0     Thailand                NaN   \n",
      "9     CUST110    Nina Patel  25.0    Singapore             340.60   \n",
      "\n",
      "  preferred_category  last_purchase_days  holiday_budget  \n",
      "0        Electronics                 5.0          1200.0  \n",
      "1            Fashion                12.0             NaN  \n",
      "2               None                 NaN          1800.0  \n",
      "3               Home                28.0           800.0  \n",
      "4        Electronics                 3.0             NaN  \n",
      "5             Beauty                 NaN          1500.0  \n",
      "6            Fashion                45.0           600.0  \n",
      "7               None                 8.0          2000.0  \n",
      "8        Electronics                15.0          1400.0  \n",
      "9            Fashion                 NaN             NaN  \n",
      "customer_id           0\n",
      "name                  2\n",
      "age                   3\n",
      "country               2\n",
      "avg_monthly_spend     3\n",
      "preferred_category    2\n",
      "last_purchase_days    3\n",
      "holiday_budget        3\n",
      "dtype: int64\n"
     ]
    }
   ],
   "execution_count": 8
  },
  {
   "cell_type": "markdown",
   "id": "17c17030",
   "metadata": {},
   "source": [
    "## 🧽 Step 4: Handle Missing Data\n",
    "\n",
    "We will:\n",
    "- Fill numerical columns using the **median**\n",
    "- Fill categorical columns using the **mode**\n",
    "- Keep `name` as-is (it's not used in analysis)\n"
   ]
  },
  {
   "cell_type": "code",
   "id": "fd777e77",
   "metadata": {
    "ExecuteTime": {
     "end_time": "2025-08-24T00:54:45.598368Z",
     "start_time": "2025-08-24T00:54:45.584828Z"
    }
   },
   "source": [
    "# TODO: Fill missing values in numerical columns using .median()\n",
    "# Examples:\n",
    "# - Fill 'age' with median of 'age'\n",
    "# - Fill 'avg_monthly_spend' with median of 'avg_monthly_spend'\n",
    "df['age'] = df['age'].fillna(df['age'].median())\n",
    "df['avg_monthly_spend'] = df['avg_monthly_spend'].fillna(df['avg_monthly_spend'].median())\n",
    "# TODO: Fill missing values in categorical columns using .mode()\n",
    "# Examples:\n",
    "# - Fill 'country' with mode of 'country'\n",
    "# - Fill 'preferred_category' with mode of 'preferred_category'\n",
    "df['country'] = df['country'].fillna(df['country'].mode()[0])\n",
    "df['preferred_category'] = df['preferred_category'].fillna(df['preferred_category'].mode()[0])\n",
    "\n",
    "print(df)"
   ],
   "outputs": [
    {
     "name": "stdout",
     "output_type": "stream",
     "text": [
      "  customer_id          name   age      country  avg_monthly_spend  \\\n",
      "0     CUST101   Jennifer Wu  31.0    Singapore             450.80   \n",
      "1     CUST102  Ahmed Hassan  31.0     Malaysia             450.80   \n",
      "2     CUST103  Maria Santos  28.0    Singapore             620.50   \n",
      "3     CUST104          None  35.0     Thailand             280.90   \n",
      "4     CUST105      Kevin Ng  31.0    Singapore             890.25   \n",
      "5     CUST106  Priya Sharma  42.0    Singapore             450.80   \n",
      "6     CUST107          None  29.0  Philippines             195.75   \n",
      "7     CUST108     Tommy Lim  31.0     Malaysia             720.40   \n",
      "8     CUST109  Alex Johnson  38.0     Thailand             450.80   \n",
      "9     CUST110    Nina Patel  25.0    Singapore             340.60   \n",
      "\n",
      "  preferred_category  last_purchase_days  holiday_budget  \n",
      "0        Electronics                 5.0          1200.0  \n",
      "1            Fashion                12.0             NaN  \n",
      "2        Electronics                 NaN          1800.0  \n",
      "3               Home                28.0           800.0  \n",
      "4        Electronics                 3.0             NaN  \n",
      "5             Beauty                 NaN          1500.0  \n",
      "6            Fashion                45.0           600.0  \n",
      "7        Electronics                 8.0          2000.0  \n",
      "8        Electronics                15.0          1400.0  \n",
      "9            Fashion                 NaN             NaN  \n"
     ]
    }
   ],
   "execution_count": 9
  },
  {
   "cell_type": "markdown",
   "id": "6591d0c7",
   "metadata": {},
   "source": [
    "## ✅ Step 5: Confirm No More Missing Values\n"
   ]
  },
  {
   "cell_type": "code",
   "id": "9494f3d6",
   "metadata": {
    "ExecuteTime": {
     "end_time": "2025-08-24T00:54:45.608537Z",
     "start_time": "2025-08-24T00:54:45.605820Z"
    }
   },
   "source": [
    "# TODO: Recheck for missing values to confirm they’re filled\n",
    "# HINT: Use .isnull().sum()\n",
    "print(df.isnull().sum())\n"
   ],
   "outputs": [
    {
     "name": "stdout",
     "output_type": "stream",
     "text": [
      "customer_id           0\n",
      "name                  2\n",
      "age                   0\n",
      "country               0\n",
      "avg_monthly_spend     0\n",
      "preferred_category    0\n",
      "last_purchase_days    3\n",
      "holiday_budget        3\n",
      "dtype: int64\n"
     ]
    }
   ],
   "execution_count": 10
  },
  {
   "cell_type": "markdown",
   "id": "583efb85",
   "metadata": {},
   "source": [
    "## 📈 Step 6: Answer Business Questions\n",
    "### Q1. Which countries have the highest average monthly spend?\n"
   ]
  },
  {
   "cell_type": "code",
   "id": "e5e00394",
   "metadata": {
    "ExecuteTime": {
     "end_time": "2025-08-24T00:54:45.633784Z",
     "start_time": "2025-08-24T00:54:45.621557Z"
    }
   },
   "source": [
    "# TODO: Group by country and calculate average of avg_monthly_spend\n",
    "# HINT: Use .groupby()['column'].mean().sort_values()\n",
    "avg_monthly_spend_by_country = df.groupby('country')['avg_monthly_spend'].mean().sort_values(ascending=False)\n",
    "print(avg_monthly_spend_by_country)"
   ],
   "outputs": [
    {
     "name": "stdout",
     "output_type": "stream",
     "text": [
      "country\n",
      "Malaysia       585.60\n",
      "Singapore      550.59\n",
      "Thailand       365.85\n",
      "Philippines    195.75\n",
      "Name: avg_monthly_spend, dtype: float64\n"
     ]
    }
   ],
   "execution_count": 11
  },
  {
   "cell_type": "markdown",
   "id": "332fdb54",
   "metadata": {},
   "source": [
    "### Q2. What's the average holiday budget by age group?\n"
   ]
  },
  {
   "cell_type": "code",
   "id": "190efbfe",
   "metadata": {
    "ExecuteTime": {
     "end_time": "2025-08-24T01:15:04.721684Z",
     "start_time": "2025-08-24T01:15:04.717723Z"
    }
   },
   "source": [
    "# TODO: Create age groups and calculate mean holiday_budget per group\n",
    "# HINT: Use pd.cut() to segment 'age' column into bins\n",
    "# Then use .groupby('age_group')['holiday_budget'].mean()\n",
    "df['age_group'] = pd.cut(df['age'], bins=5)\n",
    "holiday_budge_by_age_group = df.groupby('age_group', observed=False)['holiday_budget'].mean()\n",
    "print(holiday_budge_by_age_group)"
   ],
   "outputs": [
    {
     "name": "stdout",
     "output_type": "stream",
     "text": [
      "age_group\n",
      "(24.983, 28.4]    1800.000000\n",
      "(28.4, 31.8]      1266.666667\n",
      "(31.8, 35.2]       800.000000\n",
      "(35.2, 38.6]      1400.000000\n",
      "(38.6, 42.0]      1500.000000\n",
      "Name: holiday_budget, dtype: float64\n"
     ]
    }
   ],
   "execution_count": 26
  },
  {
   "cell_type": "markdown",
   "id": "013feaea",
   "metadata": {},
   "source": [
    "### Q3. Which product categories are the most popular?\n"
   ]
  },
  {
   "cell_type": "code",
   "id": "c5efe2a9",
   "metadata": {
    "ExecuteTime": {
     "end_time": "2025-08-24T01:02:10.730119Z",
     "start_time": "2025-08-24T01:02:10.726991Z"
    }
   },
   "source": [
    "# TODO: Count values in 'preferred_category' column\n",
    "# HINT: Use .value_counts()\n",
    "preferred_category_count = df['preferred_category'].value_counts()\n",
    "print(preferred_category_count)"
   ],
   "outputs": [
    {
     "name": "stdout",
     "output_type": "stream",
     "text": [
      "preferred_category\n",
      "Electronics    5\n",
      "Fashion        3\n",
      "Home           1\n",
      "Beauty         1\n",
      "Name: count, dtype: int64\n"
     ]
    }
   ],
   "execution_count": 20
  },
  {
   "cell_type": "markdown",
   "id": "5e9af3ef",
   "metadata": {},
   "source": [
    "### Q4. How many customers are at risk of churning?\n",
    "\n",
    "We define \"at risk\" as those whose last purchase was more than 30 days ago.\n"
   ]
  },
  {
   "cell_type": "code",
   "id": "b365e671",
   "metadata": {
    "ExecuteTime": {
     "end_time": "2025-08-24T01:04:51.794424Z",
     "start_time": "2025-08-24T01:04:51.790748Z"
    }
   },
   "source": [
    "# TODO: Create a new column 'churn_risk'\n",
    "# Use np.where() to classify as 'At Risk' if 'last_purchase_days' > 30, else 'Active'\n",
    "\n",
    "# HINT: Use np.where(condition, 'At Risk', 'Active')\n",
    "# Then use .value_counts() to summarise\n",
    "customers_at_risk = np.where(df['last_purchase_days'] > 30, 'At Risk', \"Active\")\n",
    "print(pd.Series(customers_at_risk).value_counts())\n"
   ],
   "outputs": [
    {
     "name": "stdout",
     "output_type": "stream",
     "text": [
      "Active     9\n",
      "At Risk    1\n",
      "Name: count, dtype: int64\n"
     ]
    }
   ],
   "execution_count": 23
  },
  {
   "cell_type": "markdown",
   "id": "b2ae6e19",
   "metadata": {},
   "source": [
    "## 💰 Step 7: Estimate Potential Q4 Revenue\n",
    "\n",
    "Formula:\n",
    "> estimated_q4_revenue = avg_monthly_spend × 3 + holiday_budget\n"
   ]
  },
  {
   "cell_type": "code",
   "id": "06de2f67",
   "metadata": {
    "ExecuteTime": {
     "end_time": "2025-08-24T01:19:43.985721Z",
     "start_time": "2025-08-24T01:19:43.982734Z"
    }
   },
   "source": [
    "# TODO: Create a new column 'estimated_q4_revenue'\n",
    "# HINT: Use basic arithmetic operations on 'avg_monthly_spend' and 'holiday_budget'\n",
    "df['estimated_q4_revenue'] = df['avg_monthly_spend'] * 3 + df['holiday_budget']\n",
    "\n",
    "# TODO: Print total revenue from the new column\n",
    "# HINT: Use .sum() and format as currency with f-strings\n",
    "print(f\"The estimated q4 revenue is ${df['estimated_q4_revenue'].sum():.2f}\")"
   ],
   "outputs": [
    {
     "name": "stdout",
     "output_type": "stream",
     "text": [
      "The estimated q4 revenue is $18809.85\n"
     ]
    }
   ],
   "execution_count": 29
  },
  {
   "cell_type": "markdown",
   "id": "c4834f31",
   "metadata": {},
   "source": [
    "## 🧾 Optional: Save the Cleaned Dataset for Presentation or Dashboard\n"
   ]
  },
  {
   "cell_type": "code",
   "id": "e2f37047",
   "metadata": {
    "ExecuteTime": {
     "end_time": "2025-08-24T01:23:04.553106Z",
     "start_time": "2025-08-24T01:23:04.545458Z"
    }
   },
   "source": [
    "# Uncomment to save locally\n",
    "# holiday_df.to_csv(\"cleaned_q4_holiday_customers.csv\", index=False)\n",
    "df.to_csv(\"cleaned_data.csv\", index=False)\n"
   ],
   "outputs": [],
   "execution_count": 30
  }
 ],
 "metadata": {
  "kernelspec": {
   "display_name": "Python 3",
   "language": "python",
   "name": "python3"
  },
  "language_info": {
   "codemirror_mode": {
    "name": "ipython",
    "version": 3
   },
   "file_extension": ".py",
   "mimetype": "text/x-python",
   "name": "python",
   "nbconvert_exporter": "python",
   "pygments_lexer": "ipython3",
   "version": "3.11.9"
  }
 },
 "nbformat": 4,
 "nbformat_minor": 5
}
