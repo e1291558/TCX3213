{
 "cells": [
  {
   "cell_type": "markdown",
   "id": "cda55c5e",
   "metadata": {},
   "source": [
    "# Exploratory Data Analysis (EDA)\n",
    "\n",
    "---\n",
    "\n",
    "## Retail scenario and learning goals\n",
    "\n",
    "**Scenario:** You work for a small online shop and are exploring a sample of customer orders.  \n",
    "You want to understand the data, check for issues, and communicate insights.\n",
    "\n",
    "**You will learn to:**\n",
    "1) Explain why EDA is essential and follow a simple EDA flow  \n",
    "2) Recognise data types and common data sources  \n",
    "3) Compute descriptive statistics: mean, median, mode, range, variance, standard deviation, IQR  \n",
    "4) Produce summary tables with `DataFrame.describe()`  \n",
    "5) Explore categorical data with frequency tables and cross-tabulations  \n",
    "6) Detect and handle outliers with visuals and IQR rules, and do basic sensitivity checks  \n",
    "7) Explore multivariate relationships with correlations, heatmaps, and pairplots\n",
    "\n",
    "### Quick checklist to guide your EDA\n",
    "1) Explore the data: shapes, types, missingness, ranges  \n",
    "2) Identify patterns: distributions, outliers, simple relationships  \n",
    "3) Form hypotheses: what might explain the patterns  \n",
    "4) Communicate: concise visuals and summaries for your audience"
   ]
  },
  {
   "cell_type": "code",
   "id": "55384cbd",
   "metadata": {
    "ExecuteTime": {
     "end_time": "2025-09-06T12:39:41.734648Z",
     "start_time": "2025-09-06T12:39:41.719172Z"
    }
   },
   "source": [
    "# Setup\n",
    "import numpy as np\n",
    "import pandas as pd\n",
    "import matplotlib.pyplot as plt\n",
    "import seaborn as sns\n",
    "\n",
    "# For reproducibility\n",
    "rng = np.random.default_rng(7)\n",
    "\n",
    "# Create a small, illustrative dataset\n",
    "n = 60\n",
    "df = pd.DataFrame({\n",
    "    \"CustomerID\": np.arange(1, n+1),\n",
    "    \"Age\": rng.integers(18, 70, size=n),\n",
    "    \"OrderChannel\": rng.choice([\"Web\", \"Mobile\", \"Store\"], size=n, p=[0.55, 0.30, 0.15]),\n",
    "    \"ItemsBought\": rng.integers(1, 8, size=n),\n",
    "    \"OrderValue\": np.round(rng.normal(80, 25, size=n), 1)  # £\n",
    "})\n",
    "\n",
    "# Add some missing values and outliers to reflect real-world issues\n",
    "df.loc[rng.choice(df.index, 3, replace=False), \"OrderValue\"] = np.nan\n",
    "df.loc[rng.choice(df.index, 2, replace=False), \"OrderValue\"] = [350.0, 420.0]  # very large orders (outliers)\n",
    "\n",
    "df.head()\n"
   ],
   "outputs": [
    {
     "data": {
      "text/plain": [
       "   CustomerID  Age OrderChannel  ItemsBought  OrderValue\n",
       "0           1   67          Web            5        84.8\n",
       "1           2   50          Web            1        82.2\n",
       "2           3   53          Web            7        65.2\n",
       "3           4   64          Web            7        77.0\n",
       "4           5   48       Mobile            4        30.1"
      ],
      "text/html": [
       "<div>\n",
       "<style scoped>\n",
       "    .dataframe tbody tr th:only-of-type {\n",
       "        vertical-align: middle;\n",
       "    }\n",
       "\n",
       "    .dataframe tbody tr th {\n",
       "        vertical-align: top;\n",
       "    }\n",
       "\n",
       "    .dataframe thead th {\n",
       "        text-align: right;\n",
       "    }\n",
       "</style>\n",
       "<table border=\"1\" class=\"dataframe\">\n",
       "  <thead>\n",
       "    <tr style=\"text-align: right;\">\n",
       "      <th></th>\n",
       "      <th>CustomerID</th>\n",
       "      <th>Age</th>\n",
       "      <th>OrderChannel</th>\n",
       "      <th>ItemsBought</th>\n",
       "      <th>OrderValue</th>\n",
       "    </tr>\n",
       "  </thead>\n",
       "  <tbody>\n",
       "    <tr>\n",
       "      <th>0</th>\n",
       "      <td>1</td>\n",
       "      <td>67</td>\n",
       "      <td>Web</td>\n",
       "      <td>5</td>\n",
       "      <td>84.8</td>\n",
       "    </tr>\n",
       "    <tr>\n",
       "      <th>1</th>\n",
       "      <td>2</td>\n",
       "      <td>50</td>\n",
       "      <td>Web</td>\n",
       "      <td>1</td>\n",
       "      <td>82.2</td>\n",
       "    </tr>\n",
       "    <tr>\n",
       "      <th>2</th>\n",
       "      <td>3</td>\n",
       "      <td>53</td>\n",
       "      <td>Web</td>\n",
       "      <td>7</td>\n",
       "      <td>65.2</td>\n",
       "    </tr>\n",
       "    <tr>\n",
       "      <th>3</th>\n",
       "      <td>4</td>\n",
       "      <td>64</td>\n",
       "      <td>Web</td>\n",
       "      <td>7</td>\n",
       "      <td>77.0</td>\n",
       "    </tr>\n",
       "    <tr>\n",
       "      <th>4</th>\n",
       "      <td>5</td>\n",
       "      <td>48</td>\n",
       "      <td>Mobile</td>\n",
       "      <td>4</td>\n",
       "      <td>30.1</td>\n",
       "    </tr>\n",
       "  </tbody>\n",
       "</table>\n",
       "</div>"
      ]
     },
     "execution_count": 1,
     "metadata": {},
     "output_type": "execute_result"
    }
   ],
   "execution_count": 1
  },
  {
   "cell_type": "markdown",
   "id": "8d59f351",
   "metadata": {},
   "source": [
    "## Reading data from a CSV file\n",
    "\n",
    "In this tutorial, we first create synthetic data for practice.  \n",
    "In a real project, your data would usually come from a CSV file.  \n",
    "Below is an example of how you would read in a CSV file instead:\n",
    "\n",
    "- **data.csv**: Replace this with the actual path to your CSV file.  \n",
    "- **index_col=None**: Pandas will assign default row numbers instead of using a column as the index.  \n",
    "- **na_values**: Defines which strings should be treated as missing values (optional).  \n",
    "- **encoding='utf-8'**: Ensures correct reading of most CSV files (optional).  \n",
    "\n",
    "Example code:\n",
    "\n",
    "```python\n",
    "df = pd.read_csv(\n",
    "    \"data.csv\",        # Path to the CSV file\n",
    "    index_col=None,     # No column as index\n",
    "    na_values=[\"NA\"],   # Treat 'NA' as missing value\n",
    "    encoding=\"utf-8\"    # File encoding\n",
    ")\n"
   ]
  },
  {
   "cell_type": "markdown",
   "id": "1da95b80",
   "metadata": {},
   "source": [
    "# 1. Why EDA matters\n",
    "\n",
    "EDA is the first step: you examine, summarise, and visualise the data to understand its key characteristics, spot issues like missing values or outliers, and discover patterns that guide later analysis. It is iterative and helps you form and refine hypotheses. \n",
    "\n",
    "# 2. Data types and data sources (quick recap)\n",
    "\n",
    "**Data types**\n",
    "- Categorical: nominal (no order) and ordinal (natural order)\n",
    "- Numerical: discrete (counted) and continuous (measured)\n",
    "\n",
    "**Data sources**\n",
    "- Databases\n",
    "- Web APIs\n",
    "- Flat files such as CSV, JSON, XML\n"
   ]
  },
  {
   "cell_type": "code",
   "id": "beac2cbe",
   "metadata": {
    "ExecuteTime": {
     "end_time": "2025-09-06T12:39:41.760680Z",
     "start_time": "2025-09-06T12:39:41.751232Z"
    }
   },
   "source": [
    "# Peek at structure and basic issues\n",
    "print(df.info())     # dtypes and missingness\n"
   ],
   "outputs": [
    {
     "name": "stdout",
     "output_type": "stream",
     "text": [
      "<class 'pandas.core.frame.DataFrame'>\n",
      "RangeIndex: 60 entries, 0 to 59\n",
      "Data columns (total 5 columns):\n",
      " #   Column        Non-Null Count  Dtype  \n",
      "---  ------        --------------  -----  \n",
      " 0   CustomerID    60 non-null     int64  \n",
      " 1   Age           60 non-null     int64  \n",
      " 2   OrderChannel  60 non-null     object \n",
      " 3   ItemsBought   60 non-null     int64  \n",
      " 4   OrderValue    57 non-null     float64\n",
      "dtypes: float64(1), int64(3), object(1)\n",
      "memory usage: 2.5+ KB\n",
      "None\n"
     ]
    }
   ],
   "execution_count": 2
  },
  {
   "cell_type": "code",
   "id": "c91f721f",
   "metadata": {
    "ExecuteTime": {
     "end_time": "2025-09-06T12:39:41.792028Z",
     "start_time": "2025-09-06T12:39:41.786521Z"
    }
   },
   "source": [
    "display(df.sample(15))\n"
   ],
   "outputs": [
    {
     "data": {
      "text/plain": [
       "    CustomerID  Age OrderChannel  ItemsBought  OrderValue\n",
       "39          40   69          Web            4       121.4\n",
       "16          17   24          Web            6       116.0\n",
       "32          33   44       Mobile            1        71.8\n",
       "57          58   50          Web            3       113.4\n",
       "47          48   20        Store            7        36.0\n",
       "49          50   19          Web            1        79.4\n",
       "13          14   18       Mobile            1        83.3\n",
       "24          25   55          Web            6        60.2\n",
       "43          44   26       Mobile            7       115.2\n",
       "6            7   61          Web            6        89.1\n",
       "5            6   58          Web            4        51.7\n",
       "44          45   62          Web            7        43.6\n",
       "36          37   54          Web            7        72.5\n",
       "48          49   41       Mobile            3        98.4\n",
       "18          19   24          Web            7        73.2"
      ],
      "text/html": [
       "<div>\n",
       "<style scoped>\n",
       "    .dataframe tbody tr th:only-of-type {\n",
       "        vertical-align: middle;\n",
       "    }\n",
       "\n",
       "    .dataframe tbody tr th {\n",
       "        vertical-align: top;\n",
       "    }\n",
       "\n",
       "    .dataframe thead th {\n",
       "        text-align: right;\n",
       "    }\n",
       "</style>\n",
       "<table border=\"1\" class=\"dataframe\">\n",
       "  <thead>\n",
       "    <tr style=\"text-align: right;\">\n",
       "      <th></th>\n",
       "      <th>CustomerID</th>\n",
       "      <th>Age</th>\n",
       "      <th>OrderChannel</th>\n",
       "      <th>ItemsBought</th>\n",
       "      <th>OrderValue</th>\n",
       "    </tr>\n",
       "  </thead>\n",
       "  <tbody>\n",
       "    <tr>\n",
       "      <th>39</th>\n",
       "      <td>40</td>\n",
       "      <td>69</td>\n",
       "      <td>Web</td>\n",
       "      <td>4</td>\n",
       "      <td>121.4</td>\n",
       "    </tr>\n",
       "    <tr>\n",
       "      <th>16</th>\n",
       "      <td>17</td>\n",
       "      <td>24</td>\n",
       "      <td>Web</td>\n",
       "      <td>6</td>\n",
       "      <td>116.0</td>\n",
       "    </tr>\n",
       "    <tr>\n",
       "      <th>32</th>\n",
       "      <td>33</td>\n",
       "      <td>44</td>\n",
       "      <td>Mobile</td>\n",
       "      <td>1</td>\n",
       "      <td>71.8</td>\n",
       "    </tr>\n",
       "    <tr>\n",
       "      <th>57</th>\n",
       "      <td>58</td>\n",
       "      <td>50</td>\n",
       "      <td>Web</td>\n",
       "      <td>3</td>\n",
       "      <td>113.4</td>\n",
       "    </tr>\n",
       "    <tr>\n",
       "      <th>47</th>\n",
       "      <td>48</td>\n",
       "      <td>20</td>\n",
       "      <td>Store</td>\n",
       "      <td>7</td>\n",
       "      <td>36.0</td>\n",
       "    </tr>\n",
       "    <tr>\n",
       "      <th>49</th>\n",
       "      <td>50</td>\n",
       "      <td>19</td>\n",
       "      <td>Web</td>\n",
       "      <td>1</td>\n",
       "      <td>79.4</td>\n",
       "    </tr>\n",
       "    <tr>\n",
       "      <th>13</th>\n",
       "      <td>14</td>\n",
       "      <td>18</td>\n",
       "      <td>Mobile</td>\n",
       "      <td>1</td>\n",
       "      <td>83.3</td>\n",
       "    </tr>\n",
       "    <tr>\n",
       "      <th>24</th>\n",
       "      <td>25</td>\n",
       "      <td>55</td>\n",
       "      <td>Web</td>\n",
       "      <td>6</td>\n",
       "      <td>60.2</td>\n",
       "    </tr>\n",
       "    <tr>\n",
       "      <th>43</th>\n",
       "      <td>44</td>\n",
       "      <td>26</td>\n",
       "      <td>Mobile</td>\n",
       "      <td>7</td>\n",
       "      <td>115.2</td>\n",
       "    </tr>\n",
       "    <tr>\n",
       "      <th>6</th>\n",
       "      <td>7</td>\n",
       "      <td>61</td>\n",
       "      <td>Web</td>\n",
       "      <td>6</td>\n",
       "      <td>89.1</td>\n",
       "    </tr>\n",
       "    <tr>\n",
       "      <th>5</th>\n",
       "      <td>6</td>\n",
       "      <td>58</td>\n",
       "      <td>Web</td>\n",
       "      <td>4</td>\n",
       "      <td>51.7</td>\n",
       "    </tr>\n",
       "    <tr>\n",
       "      <th>44</th>\n",
       "      <td>45</td>\n",
       "      <td>62</td>\n",
       "      <td>Web</td>\n",
       "      <td>7</td>\n",
       "      <td>43.6</td>\n",
       "    </tr>\n",
       "    <tr>\n",
       "      <th>36</th>\n",
       "      <td>37</td>\n",
       "      <td>54</td>\n",
       "      <td>Web</td>\n",
       "      <td>7</td>\n",
       "      <td>72.5</td>\n",
       "    </tr>\n",
       "    <tr>\n",
       "      <th>48</th>\n",
       "      <td>49</td>\n",
       "      <td>41</td>\n",
       "      <td>Mobile</td>\n",
       "      <td>3</td>\n",
       "      <td>98.4</td>\n",
       "    </tr>\n",
       "    <tr>\n",
       "      <th>18</th>\n",
       "      <td>19</td>\n",
       "      <td>24</td>\n",
       "      <td>Web</td>\n",
       "      <td>7</td>\n",
       "      <td>73.2</td>\n",
       "    </tr>\n",
       "  </tbody>\n",
       "</table>\n",
       "</div>"
      ]
     },
     "metadata": {},
     "output_type": "display_data",
     "jetTransient": {
      "display_id": null
     }
    }
   ],
   "execution_count": 3
  },
  {
   "cell_type": "markdown",
   "id": "495ea0bd",
   "metadata": {},
   "source": [
    "# 3. Descriptive statistics\n",
    "\n",
    "## 3.1 Central tendency\n",
    "- **Mean**: arithmetic average  \n",
    "- **Median**: middle value when sorted, less sensitive to outliers  \n",
    "- **Mode**: most common value\n",
    "\n",
    "## 3.2 Variability\n",
    "- **Range**: max − min  \n",
    "- **Variance**: average squared deviation from the mean  \n",
    "- **Standard deviation**: square root of variance  \n",
    "- **IQR**: Q3 − Q1, robust to outliers\n"
   ]
  },
  {
   "cell_type": "code",
   "id": "eaf49d92",
   "metadata": {
    "ExecuteTime": {
     "end_time": "2025-09-06T12:39:41.974319Z",
     "start_time": "2025-09-06T12:39:41.968807Z"
    }
   },
   "source": [
    "# Descriptive statistics for a single numeric column\n",
    "vals = df[\"OrderValue\"].dropna()  # ignore NaNs for these stats\n",
    "\n",
    "mean_val = vals.mean()\n",
    "median_val = vals.median()\n",
    "mode_vals = vals.mode()  # may return multiple modes\n",
    "\n",
    "data_range = vals.max() - vals.min()\n",
    "variance = vals.var(ddof=1)       # sample variance to match typical practice\n",
    "std_dev = vals.std(ddof=1)\n",
    "q1 = vals.quantile(0.25)\n",
    "q3 = vals.quantile(0.75)\n",
    "iqr = q3 - q1"
   ],
   "outputs": [],
   "execution_count": 4
  },
  {
   "cell_type": "code",
   "id": "2e0872c5",
   "metadata": {
    "ExecuteTime": {
     "end_time": "2025-09-06T12:39:42.020513Z",
     "start_time": "2025-09-06T12:39:42.018243Z"
    }
   },
   "source": [
    "print(f\"Mean: {mean_val:.2f}\")\n",
    "print(f\"Median: {median_val:.2f}\")\n",
    "print(f\"Mode(s): {list(mode_vals.values)}\")\n",
    "print(f\"Range: {data_range:.2f}\")\n",
    "print(f\"Variance: {variance:.2f}\")\n",
    "print(f\"Standard deviation: {std_dev:.2f}\")\n",
    "print(f\"Q1: {q1:.2f}, Q3: {q3:.2f}, IQR: {iqr:.2f}\")\n"
   ],
   "outputs": [
    {
     "name": "stdout",
     "output_type": "stream",
     "text": [
      "Mean: 85.05\n",
      "Median: 74.80\n",
      "Mode(s): [np.float64(26.8), np.float64(30.1), np.float64(36.0), np.float64(36.3), np.float64(41.6), np.float64(43.6), np.float64(45.5), np.float64(48.1), np.float64(49.6), np.float64(51.7), np.float64(52.3), np.float64(53.6), np.float64(55.6), np.float64(58.9), np.float64(59.8), np.float64(60.2), np.float64(62.6), np.float64(63.2), np.float64(64.2), np.float64(64.3), np.float64(65.2), np.float64(66.0), np.float64(66.4), np.float64(67.3), np.float64(70.6), np.float64(71.8), np.float64(72.5), np.float64(73.2), np.float64(74.8), np.float64(76.0), np.float64(76.1), np.float64(77.0), np.float64(78.7), np.float64(79.4), np.float64(80.2), np.float64(80.3), np.float64(81.8), np.float64(82.2), np.float64(83.3), np.float64(84.8), np.float64(87.3), np.float64(89.1), np.float64(91.4), np.float64(98.4), np.float64(98.9), np.float64(99.5), np.float64(101.2), np.float64(104.1), np.float64(107.5), np.float64(111.2), np.float64(111.4), np.float64(113.4), np.float64(115.2), np.float64(116.0), np.float64(121.4), np.float64(350.0), np.float64(420.0)]\n",
      "Range: 393.20\n",
      "Variance: 3909.23\n",
      "Standard deviation: 62.52\n",
      "Q1: 59.80, Q3: 91.40, IQR: 31.60\n"
     ]
    }
   ],
   "execution_count": 5
  },
  {
   "cell_type": "markdown",
   "id": "beb690a5",
   "metadata": {},
   "source": [
    "# 4. Statistical summaries with Pandas\n",
    "\n",
    "`DataFrame.describe()` gives a quick statistical summary for numerical columns by default. You can also include object columns by passing `include=\"all\"`. \n"
   ]
  },
  {
   "cell_type": "code",
   "id": "ba1ff7de",
   "metadata": {
    "ExecuteTime": {
     "end_time": "2025-09-06T12:39:42.060047Z",
     "start_time": "2025-09-06T12:39:42.053353Z"
    }
   },
   "source": [
    "summary_stats = df.describe()\n",
    "summary_stats"
   ],
   "outputs": [
    {
     "data": {
      "text/plain": [
       "       CustomerID        Age  ItemsBought  OrderValue\n",
       "count   60.000000  60.000000    60.000000   57.000000\n",
       "mean    30.500000  45.966667     4.333333   85.045614\n",
       "std     17.464249  15.070419     2.055721   62.523801\n",
       "min      1.000000  18.000000     1.000000   26.800000\n",
       "25%     15.750000  33.000000     3.000000   59.800000\n",
       "50%     30.500000  45.000000     4.500000   74.800000\n",
       "75%     45.250000  60.000000     6.000000   91.400000\n",
       "max     60.000000  69.000000     7.000000  420.000000"
      ],
      "text/html": [
       "<div>\n",
       "<style scoped>\n",
       "    .dataframe tbody tr th:only-of-type {\n",
       "        vertical-align: middle;\n",
       "    }\n",
       "\n",
       "    .dataframe tbody tr th {\n",
       "        vertical-align: top;\n",
       "    }\n",
       "\n",
       "    .dataframe thead th {\n",
       "        text-align: right;\n",
       "    }\n",
       "</style>\n",
       "<table border=\"1\" class=\"dataframe\">\n",
       "  <thead>\n",
       "    <tr style=\"text-align: right;\">\n",
       "      <th></th>\n",
       "      <th>CustomerID</th>\n",
       "      <th>Age</th>\n",
       "      <th>ItemsBought</th>\n",
       "      <th>OrderValue</th>\n",
       "    </tr>\n",
       "  </thead>\n",
       "  <tbody>\n",
       "    <tr>\n",
       "      <th>count</th>\n",
       "      <td>60.000000</td>\n",
       "      <td>60.000000</td>\n",
       "      <td>60.000000</td>\n",
       "      <td>57.000000</td>\n",
       "    </tr>\n",
       "    <tr>\n",
       "      <th>mean</th>\n",
       "      <td>30.500000</td>\n",
       "      <td>45.966667</td>\n",
       "      <td>4.333333</td>\n",
       "      <td>85.045614</td>\n",
       "    </tr>\n",
       "    <tr>\n",
       "      <th>std</th>\n",
       "      <td>17.464249</td>\n",
       "      <td>15.070419</td>\n",
       "      <td>2.055721</td>\n",
       "      <td>62.523801</td>\n",
       "    </tr>\n",
       "    <tr>\n",
       "      <th>min</th>\n",
       "      <td>1.000000</td>\n",
       "      <td>18.000000</td>\n",
       "      <td>1.000000</td>\n",
       "      <td>26.800000</td>\n",
       "    </tr>\n",
       "    <tr>\n",
       "      <th>25%</th>\n",
       "      <td>15.750000</td>\n",
       "      <td>33.000000</td>\n",
       "      <td>3.000000</td>\n",
       "      <td>59.800000</td>\n",
       "    </tr>\n",
       "    <tr>\n",
       "      <th>50%</th>\n",
       "      <td>30.500000</td>\n",
       "      <td>45.000000</td>\n",
       "      <td>4.500000</td>\n",
       "      <td>74.800000</td>\n",
       "    </tr>\n",
       "    <tr>\n",
       "      <th>75%</th>\n",
       "      <td>45.250000</td>\n",
       "      <td>60.000000</td>\n",
       "      <td>6.000000</td>\n",
       "      <td>91.400000</td>\n",
       "    </tr>\n",
       "    <tr>\n",
       "      <th>max</th>\n",
       "      <td>60.000000</td>\n",
       "      <td>69.000000</td>\n",
       "      <td>7.000000</td>\n",
       "      <td>420.000000</td>\n",
       "    </tr>\n",
       "  </tbody>\n",
       "</table>\n",
       "</div>"
      ]
     },
     "execution_count": 6,
     "metadata": {},
     "output_type": "execute_result"
    }
   ],
   "execution_count": 6
  },
  {
   "cell_type": "markdown",
   "id": "5365be0e",
   "metadata": {},
   "source": [
    "# 5. Exploring categorical data\n",
    "\n",
    "## 5.1 Frequency tables\n",
    "Count how many times each category appears.\n",
    "\n",
    "## 5.2 Cross-tabulations\n",
    "Contingency tables show relationships between two categorical variables. They are useful for comparing distributions across groups. \n"
   ]
  },
  {
   "cell_type": "code",
   "id": "a4fdf136",
   "metadata": {
    "ExecuteTime": {
     "end_time": "2025-09-06T12:39:42.101925Z",
     "start_time": "2025-09-06T12:39:42.088710Z"
    }
   },
   "source": [
    "# 5.1 Frequency table\n",
    "freq_channel = pd.crosstab(index=df[\"OrderChannel\"], columns=\"count\")\n",
    "freq_channel\n"
   ],
   "outputs": [
    {
     "data": {
      "text/plain": [
       "col_0         count\n",
       "OrderChannel       \n",
       "Mobile           18\n",
       "Store             9\n",
       "Web              33"
      ],
      "text/html": [
       "<div>\n",
       "<style scoped>\n",
       "    .dataframe tbody tr th:only-of-type {\n",
       "        vertical-align: middle;\n",
       "    }\n",
       "\n",
       "    .dataframe tbody tr th {\n",
       "        vertical-align: top;\n",
       "    }\n",
       "\n",
       "    .dataframe thead th {\n",
       "        text-align: right;\n",
       "    }\n",
       "</style>\n",
       "<table border=\"1\" class=\"dataframe\">\n",
       "  <thead>\n",
       "    <tr style=\"text-align: right;\">\n",
       "      <th>col_0</th>\n",
       "      <th>count</th>\n",
       "    </tr>\n",
       "    <tr>\n",
       "      <th>OrderChannel</th>\n",
       "      <th></th>\n",
       "    </tr>\n",
       "  </thead>\n",
       "  <tbody>\n",
       "    <tr>\n",
       "      <th>Mobile</th>\n",
       "      <td>18</td>\n",
       "    </tr>\n",
       "    <tr>\n",
       "      <th>Store</th>\n",
       "      <td>9</td>\n",
       "    </tr>\n",
       "    <tr>\n",
       "      <th>Web</th>\n",
       "      <td>33</td>\n",
       "    </tr>\n",
       "  </tbody>\n",
       "</table>\n",
       "</div>"
      ]
     },
     "execution_count": 7,
     "metadata": {},
     "output_type": "execute_result"
    }
   ],
   "execution_count": 7
  },
  {
   "cell_type": "markdown",
   "id": "df5a6d4a",
   "metadata": {},
   "source": [
    "# 6. Identifying outliers\n",
    "\n",
    "Outliers are values that deviate strongly from most observations. They can distort means and standard deviations and can affect models. You can spot univariate outliers with box plots and use scatter plots for multivariate contexts. \n"
   ]
  },
  {
   "cell_type": "code",
   "id": "11cdfe48",
   "metadata": {
    "ExecuteTime": {
     "end_time": "2025-09-06T12:39:42.304226Z",
     "start_time": "2025-09-06T12:39:42.206101Z"
    }
   },
   "source": [
    "# 6.1 Univariate outliers: box plot of OrderValue\n",
    "plt.figure(figsize=(5, 4))\n",
    "plt.boxplot(df[\"OrderValue\"].dropna())\n",
    "plt.xlabel(\"OrderValue\")\n",
    "plt.ylabel(\"£\")\n",
    "plt.title(\"Box plot for outlier detection\")\n",
    "plt.show()\n"
   ],
   "outputs": [
    {
     "data": {
      "text/plain": [
       "<Figure size 500x400 with 1 Axes>"
      ],
      "image/png": "[encoded data removed]"
     },
     "metadata": {},
     "output_type": "display_data",
     "jetTransient": {
      "display_id": null
     }
    }
   ],
   "execution_count": 8
  },
  {
   "cell_type": "code",
   "id": "5737423c",
   "metadata": {
    "ExecuteTime": {
     "end_time": "2025-09-06T12:39:42.362348Z",
     "start_time": "2025-09-06T12:39:42.309862Z"
    }
   },
   "source": [
    "# 6.2 Multivariate view: ItemsBought vs OrderValue\n",
    "plt.figure(figsize=(5, 4))\n",
    "plt.scatter(df[\"ItemsBought\"], df[\"OrderValue\"])\n",
    "plt.xlabel(\"ItemsBought\")\n",
    "plt.ylabel(\"OrderValue (£)\")\n",
    "plt.title(\"Scatter plot for outlier detection\")\n",
    "plt.show()\n"
   ],
   "outputs": [
    {
     "data": {
      "text/plain": [
       "<Figure size 500x400 with 1 Axes>"
      ],
      "image/png": "[encoded data removed]"
     },
     "metadata": {},
     "output_type": "display_data",
     "jetTransient": {
      "display_id": null
     }
    }
   ],
   "execution_count": 9
  },
  {
   "cell_type": "markdown",
   "id": "7200b77e",
   "metadata": {},
   "source": [
    "# 7. Programmatic detection of outliers\n",
    "\n",
    "A simple rule is the IQR method for univariate outliers. Values below Q1 − 1.5×IQR or above Q3 + 1.5×IQR are flagged as outliers. \n",
    "\n",
    "\n",
    "### Detecting outliers using the IQR method\n",
    "\n",
    "This code identifies outliers in the `OrderValue` column using the Interquartile Range (IQR) approach:\n",
    "\n",
    "1. **Drop missing values**  \n",
    "   `vals = df[\"OrderValue\"].dropna()`  \n",
    "   Removes any `NaN` values so calculations are not affected.\n",
    "\n",
    "2. **Compute Q1 and Q3**  \n",
    "   - `q1 = vals.quantile(0.25)` → the 25th percentile (lower quartile)  \n",
    "   - `q3 = vals.quantile(0.75)` → the 75th percentile (upper quartile)  \n",
    "\n",
    "3. **Calculate the IQR**  \n",
    "   `iqr = q3 - q1`  \n",
    "   This measures the spread of the middle 50% of the data.\n",
    "\n",
    "4. **Determine outlier boundaries**  \n",
    "   - Lower bound = `Q1 − 1.5 × IQR`  \n",
    "   - Upper bound = `Q3 + 1.5 × IQR`  \n",
    "   Values outside these limits are considered potential outliers.\n",
    "\n",
    "5. **Create a mask for outliers**  \n",
    "   `outlier_mask = (df[\"OrderValue\"] < lower) | (df[\"OrderValue\"] > upper)`  \n",
    "   This gives `True` for rows with outlier values.\n",
    "\n",
    "6. **Subset the data**  \n",
    "   - `outliers` → only rows flagged as outliers  \n",
    "   - `filtered` → rows without outliers  \n",
    "\n",
    "7. **Display results**  \n",
    "   Shows the detected outliers and the first few rows of the filtered dataset.\n"
   ]
  },
  {
   "cell_type": "code",
   "id": "846aae55",
   "metadata": {
    "ExecuteTime": {
     "end_time": "2025-09-06T12:39:42.379872Z",
     "start_time": "2025-09-06T12:39:42.370951Z"
    }
   },
   "source": [
    "# Remove missing values from the OrderValue column\n",
    "vals = df[\"OrderValue\"].dropna()\n",
    "\n",
    "# Calculate the 25th and 75th percentiles\n",
    "q1 = vals.quantile(0.25)   # Lower quartile (Q1)\n",
    "q3 = vals.quantile(0.75)   # Upper quartile (Q3)\n",
    "\n",
    "# Compute the Interquartile Range (IQR)\n",
    "iqr = q3 - q1\n",
    "\n",
    "# Determine lower and upper bounds for outliers\n",
    "lower = q1 - 1.5 * iqr\n",
    "upper = q3 + 1.5 * iqr\n",
    "\n",
    "# Identify rows where OrderValue is below or above the bounds\n",
    "outlier_mask = (df[\"OrderValue\"] < lower) | (df[\"OrderValue\"] > upper)\n",
    "\n",
    "# Extract outliers and non-outlier (filtered) data\n",
    "outliers = df.loc[outlier_mask, [\"CustomerID\", \"ItemsBought\", \"OrderValue\"]]\n",
    "filtered = df.loc[~outlier_mask, [\"CustomerID\", \"ItemsBought\", \"OrderValue\"]]\n",
    "\n",
    "# Display the outliers and the first few rows of filtered data\n",
    "print(\"Outliers:\")\n",
    "display(outliers)\n",
    "print(\"Filtered data (head):\")\n",
    "display(filtered.head())"
   ],
   "outputs": [
    {
     "name": "stdout",
     "output_type": "stream",
     "text": [
      "Outliers:\n"
     ]
    },
    {
     "data": {
      "text/plain": [
       "    CustomerID  ItemsBought  OrderValue\n",
       "17          18            1       350.0\n",
       "54          55            5       420.0"
      ],
      "text/html": [
       "<div>\n",
       "<style scoped>\n",
       "    .dataframe tbody tr th:only-of-type {\n",
       "        vertical-align: middle;\n",
       "    }\n",
       "\n",
       "    .dataframe tbody tr th {\n",
       "        vertical-align: top;\n",
       "    }\n",
       "\n",
       "    .dataframe thead th {\n",
       "        text-align: right;\n",
       "    }\n",
       "</style>\n",
       "<table border=\"1\" class=\"dataframe\">\n",
       "  <thead>\n",
       "    <tr style=\"text-align: right;\">\n",
       "      <th></th>\n",
       "      <th>CustomerID</th>\n",
       "      <th>ItemsBought</th>\n",
       "      <th>OrderValue</th>\n",
       "    </tr>\n",
       "  </thead>\n",
       "  <tbody>\n",
       "    <tr>\n",
       "      <th>17</th>\n",
       "      <td>18</td>\n",
       "      <td>1</td>\n",
       "      <td>350.0</td>\n",
       "    </tr>\n",
       "    <tr>\n",
       "      <th>54</th>\n",
       "      <td>55</td>\n",
       "      <td>5</td>\n",
       "      <td>420.0</td>\n",
       "    </tr>\n",
       "  </tbody>\n",
       "</table>\n",
       "</div>"
      ]
     },
     "metadata": {},
     "output_type": "display_data",
     "jetTransient": {
      "display_id": null
     }
    },
    {
     "name": "stdout",
     "output_type": "stream",
     "text": [
      "Filtered data (head):\n"
     ]
    },
    {
     "data": {
      "text/plain": [
       "   CustomerID  ItemsBought  OrderValue\n",
       "0           1            5        84.8\n",
       "1           2            1        82.2\n",
       "2           3            7        65.2\n",
       "3           4            7        77.0\n",
       "4           5            4        30.1"
      ],
      "text/html": [
       "<div>\n",
       "<style scoped>\n",
       "    .dataframe tbody tr th:only-of-type {\n",
       "        vertical-align: middle;\n",
       "    }\n",
       "\n",
       "    .dataframe tbody tr th {\n",
       "        vertical-align: top;\n",
       "    }\n",
       "\n",
       "    .dataframe thead th {\n",
       "        text-align: right;\n",
       "    }\n",
       "</style>\n",
       "<table border=\"1\" class=\"dataframe\">\n",
       "  <thead>\n",
       "    <tr style=\"text-align: right;\">\n",
       "      <th></th>\n",
       "      <th>CustomerID</th>\n",
       "      <th>ItemsBought</th>\n",
       "      <th>OrderValue</th>\n",
       "    </tr>\n",
       "  </thead>\n",
       "  <tbody>\n",
       "    <tr>\n",
       "      <th>0</th>\n",
       "      <td>1</td>\n",
       "      <td>5</td>\n",
       "      <td>84.8</td>\n",
       "    </tr>\n",
       "    <tr>\n",
       "      <th>1</th>\n",
       "      <td>2</td>\n",
       "      <td>1</td>\n",
       "      <td>82.2</td>\n",
       "    </tr>\n",
       "    <tr>\n",
       "      <th>2</th>\n",
       "      <td>3</td>\n",
       "      <td>7</td>\n",
       "      <td>65.2</td>\n",
       "    </tr>\n",
       "    <tr>\n",
       "      <th>3</th>\n",
       "      <td>4</td>\n",
       "      <td>7</td>\n",
       "      <td>77.0</td>\n",
       "    </tr>\n",
       "    <tr>\n",
       "      <th>4</th>\n",
       "      <td>5</td>\n",
       "      <td>4</td>\n",
       "      <td>30.1</td>\n",
       "    </tr>\n",
       "  </tbody>\n",
       "</table>\n",
       "</div>"
      ]
     },
     "metadata": {},
     "output_type": "display_data",
     "jetTransient": {
      "display_id": null
     }
    }
   ],
   "execution_count": 10
  },
  {
   "cell_type": "markdown",
   "id": "3b660952",
   "metadata": {},
   "source": [
    "# 8. Handling outliers and sensitivity analysis\n",
    "\n",
    "Options include:\n",
    "- Investigate data quality\n",
    "- Keep them if they are meaningful business cases\n",
    "- Apply robust statistics or transform the data\n",
    "- Remove them with a transparent rule and compare results\n",
    "\n",
    "A simple sensitivity check is to repeat a summary or a plot with and without outliers and see how conclusions change. \n"
   ]
  },
  {
   "cell_type": "code",
   "id": "5b9aa923",
   "metadata": {
    "ExecuteTime": {
     "end_time": "2025-09-06T12:39:42.453489Z",
     "start_time": "2025-09-06T12:39:42.450030Z"
    }
   },
   "source": [
    "# Sensitivity example: mean and median with and without outliers\n",
    "with_outliers = df[\"OrderValue\"].dropna()\n",
    "without_outliers = df.loc[~outlier_mask, \"OrderValue\"].dropna()\n",
    "\n",
    "print(\"With outliers  -> mean:\", round(with_outliers.mean(), 2), \" median:\", round(with_outliers.median(), 2))\n",
    "print(\"Without outliers -> mean:\", round(without_outliers.mean(), 2), \" median:\", round(without_outliers.median(), 2))\n"
   ],
   "outputs": [
    {
     "name": "stdout",
     "output_type": "stream",
     "text": [
      "With outliers  -> mean: 85.05  median: 74.8\n",
      "Without outliers -> mean: 74.14  median: 73.2\n"
     ]
    }
   ],
   "execution_count": 11
  },
  {
   "cell_type": "markdown",
   "id": "715bd165",
   "metadata": {},
   "source": [
    "# 9. Multivariate analysis: correlation basics\n",
    "\n",
    "Two common correlation measures:\n",
    "- **Pearson**: linear relationships, range −1 to 1  \n",
    "- **Spearman**: monotonic relationships, less sensitive to outliers\n",
    "\n",
    "Correlation helps quantify associations across numeric variables. \n"
   ]
  },
  {
   "cell_type": "code",
   "id": "1e109a6b",
   "metadata": {
    "ExecuteTime": {
     "end_time": "2025-09-06T12:39:42.583597Z",
     "start_time": "2025-09-06T12:39:42.576559Z"
    }
   },
   "source": [
    "# Create a small numeric frame\n",
    "num = df[[\"Age\", \"ItemsBought\", \"OrderValue\"]].copy()\n",
    "\n",
    "pearson = num.corr(method=\"pearson\")\n",
    "spearman = num.corr(method=\"spearman\")\n",
    "\n",
    "print(\"Pearson correlation:\")\n",
    "display(pearson)\n",
    "print(\"Spearman correlation:\")\n",
    "display(spearman)\n"
   ],
   "outputs": [
    {
     "name": "stdout",
     "output_type": "stream",
     "text": [
      "Pearson correlation:\n"
     ]
    },
    {
     "data": {
      "text/plain": [
       "                  Age  ItemsBought  OrderValue\n",
       "Age          1.000000    -0.029725    0.144106\n",
       "ItemsBought -0.029725     1.000000   -0.083319\n",
       "OrderValue   0.144106    -0.083319    1.000000"
      ],
      "text/html": [
       "<div>\n",
       "<style scoped>\n",
       "    .dataframe tbody tr th:only-of-type {\n",
       "        vertical-align: middle;\n",
       "    }\n",
       "\n",
       "    .dataframe tbody tr th {\n",
       "        vertical-align: top;\n",
       "    }\n",
       "\n",
       "    .dataframe thead th {\n",
       "        text-align: right;\n",
       "    }\n",
       "</style>\n",
       "<table border=\"1\" class=\"dataframe\">\n",
       "  <thead>\n",
       "    <tr style=\"text-align: right;\">\n",
       "      <th></th>\n",
       "      <th>Age</th>\n",
       "      <th>ItemsBought</th>\n",
       "      <th>OrderValue</th>\n",
       "    </tr>\n",
       "  </thead>\n",
       "  <tbody>\n",
       "    <tr>\n",
       "      <th>Age</th>\n",
       "      <td>1.000000</td>\n",
       "      <td>-0.029725</td>\n",
       "      <td>0.144106</td>\n",
       "    </tr>\n",
       "    <tr>\n",
       "      <th>ItemsBought</th>\n",
       "      <td>-0.029725</td>\n",
       "      <td>1.000000</td>\n",
       "      <td>-0.083319</td>\n",
       "    </tr>\n",
       "    <tr>\n",
       "      <th>OrderValue</th>\n",
       "      <td>0.144106</td>\n",
       "      <td>-0.083319</td>\n",
       "      <td>1.000000</td>\n",
       "    </tr>\n",
       "  </tbody>\n",
       "</table>\n",
       "</div>"
      ]
     },
     "metadata": {},
     "output_type": "display_data",
     "jetTransient": {
      "display_id": null
     }
    },
    {
     "name": "stdout",
     "output_type": "stream",
     "text": [
      "Spearman correlation:\n"
     ]
    },
    {
     "data": {
      "text/plain": [
       "                  Age  ItemsBought  OrderValue\n",
       "Age          1.000000    -0.027858   -0.004832\n",
       "ItemsBought -0.027858     1.000000   -0.035033\n",
       "OrderValue  -0.004832    -0.035033    1.000000"
      ],
      "text/html": [
       "<div>\n",
       "<style scoped>\n",
       "    .dataframe tbody tr th:only-of-type {\n",
       "        vertical-align: middle;\n",
       "    }\n",
       "\n",
       "    .dataframe tbody tr th {\n",
       "        vertical-align: top;\n",
       "    }\n",
       "\n",
       "    .dataframe thead th {\n",
       "        text-align: right;\n",
       "    }\n",
       "</style>\n",
       "<table border=\"1\" class=\"dataframe\">\n",
       "  <thead>\n",
       "    <tr style=\"text-align: right;\">\n",
       "      <th></th>\n",
       "      <th>Age</th>\n",
       "      <th>ItemsBought</th>\n",
       "      <th>OrderValue</th>\n",
       "    </tr>\n",
       "  </thead>\n",
       "  <tbody>\n",
       "    <tr>\n",
       "      <th>Age</th>\n",
       "      <td>1.000000</td>\n",
       "      <td>-0.027858</td>\n",
       "      <td>-0.004832</td>\n",
       "    </tr>\n",
       "    <tr>\n",
       "      <th>ItemsBought</th>\n",
       "      <td>-0.027858</td>\n",
       "      <td>1.000000</td>\n",
       "      <td>-0.035033</td>\n",
       "    </tr>\n",
       "    <tr>\n",
       "      <th>OrderValue</th>\n",
       "      <td>-0.004832</td>\n",
       "      <td>-0.035033</td>\n",
       "      <td>1.000000</td>\n",
       "    </tr>\n",
       "  </tbody>\n",
       "</table>\n",
       "</div>"
      ]
     },
     "metadata": {},
     "output_type": "display_data",
     "jetTransient": {
      "display_id": null
     }
    }
   ],
   "execution_count": 12
  },
  {
   "cell_type": "markdown",
   "id": "1a392b18",
   "metadata": {},
   "source": [
    "# 10. Visual correlation summaries\n",
    "\n",
    "Heatmaps give a quick visual summary of a correlation matrix. Pairplots show pairwise scatter plots and distributions, useful for quickly scanning relationships. \n"
   ]
  },
  {
   "cell_type": "code",
   "id": "dcf38a7c",
   "metadata": {
    "ExecuteTime": {
     "end_time": "2025-09-06T12:39:42.729237Z",
     "start_time": "2025-09-06T12:39:42.665997Z"
    }
   },
   "source": [
    "# Heatmap\n",
    "\n",
    "# Compute the correlation matrix for numeric columns\n",
    "corr = num.corr()\n",
    "\n",
    "# Set figure size for the plot\n",
    "plt.figure(figsize=(5.5, 4.2))\n",
    "\n",
    "# Draw heatmap with a fixed colour scale from -1 to 1\n",
    "sns.heatmap(\n",
    "    corr,\n",
    "    annot=True,       # show correlation values\n",
    "    cmap=\"coolwarm\",  # blue for negative, red for positive\n",
    "    fmt=\".2f\",        # format numbers with 2 decimals\n",
    "    vmin=-1, vmax=1   # fix scale from -1 to 1\n",
    ")\n",
    "\n",
    "# Add a title to the heatmap\n",
    "plt.title(\"Correlation heatmap\")\n",
    "\n",
    "# Display the plot\n",
    "plt.show()\n",
    "\n"
   ],
   "outputs": [
    {
     "data": {
      "text/plain": [
       "<Figure size 550x420 with 2 Axes>"
      ],
      "image/png": "[encoded data removed]"
     },
     "metadata": {},
     "output_type": "display_data",
     "jetTransient": {
      "display_id": null
     }
    }
   ],
   "execution_count": 13
  },
  {
   "cell_type": "code",
   "id": "c14dae28",
   "metadata": {
    "ExecuteTime": {
     "end_time": "2025-09-06T12:39:42.825165Z",
     "start_time": "2025-09-06T12:39:42.768985Z"
    }
   },
   "source": [
    "# Compute correlation matrix\n",
    "corr = num.corr()\n",
    "\n",
    "# Create a mask for the upper triangle\n",
    "mask = np.triu(np.ones_like(corr, dtype=bool))\n",
    "\n",
    "# Plot only the lower triangle\n",
    "plt.figure(figsize=(5.5, 4.2))\n",
    "sns.heatmap(\n",
    "    corr,\n",
    "    mask=mask,            # hide upper triangle\n",
    "    annot=True,           # display correlation values\n",
    "    cmap=\"coolwarm\",      # blue for negative, red for positive\n",
    "    fmt=\".2f\",            # 2 decimal places\n",
    "    square=True,          # keep cells square\n",
    "    vmin=-1, vmax=1      # fix colour scale from -1 to 1\n",
    ")\n",
    "\n",
    "plt.title(\"Correlation heatmap (Lower Triangle)\")\n",
    "plt.show()\n"
   ],
   "outputs": [
    {
     "data": {
      "text/plain": [
       "<Figure size 550x420 with 2 Axes>"
      ],
      "image/png": "[encoded data removed]"
     },
     "metadata": {},
     "output_type": "display_data",
     "jetTransient": {
      "display_id": null
     }
    }
   ],
   "execution_count": 14
  },
  {
   "cell_type": "code",
   "id": "e20a42de",
   "metadata": {
    "ExecuteTime": {
     "end_time": "2025-09-06T12:39:43.222242Z",
     "start_time": "2025-09-06T12:39:42.830444Z"
    }
   },
   "source": [
    "# Pairplot\n",
    "sns.pairplot(num.dropna(), diag_kind=\"hist\")\n",
    "plt.suptitle(\"Pairplot for multivariate exploration\", y=1.02)\n",
    "plt.show()\n"
   ],
   "outputs": [
    {
     "data": {
      "text/plain": [
       "<Figure size 750x750 with 12 Axes>"
      ],
      "image/png": "[encoded data removed]"
     },
     "metadata": {},
     "output_type": "display_data",
     "jetTransient": {
      "display_id": null
     }
    }
   ],
   "execution_count": 15
  },
  {
   "cell_type": "markdown",
   "id": "5911b3af",
   "metadata": {},
   "source": [
    "# 11. Communicating findings\n",
    "\n",
    "The final step is to communicate insights. Summarise the questions you answered, key patterns, any data quality issues, the effect of outliers, and high-level relationships. Use clear visuals, plain language, and short tables. \n",
    "\n",
    "## Summary of Findings\n",
    "\n",
    "### Questions answered  \n",
    "- What types of data do we have, and are there missing values or outliers?  \n",
    "- What are the key descriptive statistics for each numeric variable?  \n",
    "- How are categorical variables distributed, and how do they relate to each other?  \n",
    "- How do variables relate to one another numerically (correlation)?  \n",
    "\n",
    "### Key patterns  \n",
    "- **OrderChannel:** Most orders came from the Web, followed by Mobile, then Store.  \n",
    "- **Age:** Customers were spread across all age groups, with slightly more in the 31–45 group.  \n",
    "- **OrderValue:** Most orders were between £50–£120, with a few much higher values.  \n",
    "\n",
    "### Data quality issues  \n",
    "- Some missing values in `OrderValue`.  \n",
    "- A few extremely high orders flagged as potential outliers.  \n",
    "\n",
    "### Effect of outliers  \n",
    "- Outliers inflated the mean order value but had less impact on the median.  \n",
    "- Removing outliers made the average order value more representative of typical customers.  \n",
    "\n",
    "### High-level relationships  \n",
    "- Positive correlation between `ItemsBought` and `OrderValue`: customers buying more items usually spent more.  \n",
    "- Age had weak correlations with other variables, suggesting spending patterns were not strongly age-dependent.  \n",
    "\n",
    "### Recommendations  \n",
    "- Consider removing or separately analysing extreme orders.  \n",
    "- Use the median for central tendency when data contain outliers.  \n",
    "- Explore further segmentation by channel or basket size for business insights.\n",
    "\n",
    "# What you have learned\n",
    "- Why EDA is the foundation of any analysis  \n",
    "- The main data types and common sources  \n",
    "- Descriptive statistics: central tendency, variability, IQR  \n",
    "- Rapid statistical summaries with `describe()`  \n",
    "- Categorical exploration with frequency tables and cross-tabs  \n",
    "- Outlier detection with visuals and the IQR rule, plus sensitivity checks  \n",
    "- Multivariate analysis with Pearson and Spearman correlations, heatmaps, and pairplots\n"
   ]
  }
 ],
 "metadata": {
  "kernelspec": {
   "display_name": "ace",
   "language": "python",
   "name": "python3"
  },
  "language_info": {
   "codemirror_mode": {
    "name": "ipython",
    "version": 3
   },
   "file_extension": ".py",
   "mimetype": "text/x-python",
   "name": "python",
   "nbconvert_exporter": "python",
   "pygments_lexer": "ipython3",
   "version": "3.11.6"
  }
 },
 "nbformat": 4,
 "nbformat_minor": 5
}
